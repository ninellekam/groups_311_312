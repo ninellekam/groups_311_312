{
 "cells": [
  {
   "cell_type": "markdown",
   "metadata": {},
   "source": [
    "# Импортируем необходимые модули и подключаем нужные библиотеки"
   ]
  },
  {
   "cell_type": "code",
   "execution_count": 1,
   "metadata": {},
   "outputs": [
    {
     "ename": "ModuleNotFoundError",
     "evalue": "No module named 'easy_solution'",
     "output_type": "error",
     "traceback": [
      "\u001b[0;31m---------------------------------------------------------------------------\u001b[0m",
      "\u001b[0;31mModuleNotFoundError\u001b[0m                       Traceback (most recent call last)",
      "\u001b[0;32m<ipython-input-1-bad9aedce604>\u001b[0m in \u001b[0;36m<module>\u001b[0;34m\u001b[0m\n\u001b[0;32m----> 1\u001b[0;31m \u001b[0;32mimport\u001b[0m \u001b[0mnash_equilibrium\u001b[0m\u001b[0;34m,\u001b[0m \u001b[0measy_solution\u001b[0m\u001b[0;34m,\u001b[0m \u001b[0mtransform_matrix\u001b[0m\u001b[0;34m,\u001b[0m \u001b[0msimplex_new\u001b[0m\u001b[0;34m,\u001b[0m \u001b[0mvisualize\u001b[0m\u001b[0;34m\u001b[0m\u001b[0;34m\u001b[0m\u001b[0m\n\u001b[0m\u001b[1;32m      2\u001b[0m \u001b[0;31m#from pack import *\u001b[0m\u001b[0;34m\u001b[0m\u001b[0;34m\u001b[0m\u001b[0;34m\u001b[0m\u001b[0m\n\u001b[1;32m      3\u001b[0m \u001b[0;32mimport\u001b[0m \u001b[0mnumpy\u001b[0m \u001b[0;32mas\u001b[0m \u001b[0mnp\u001b[0m\u001b[0;34m\u001b[0m\u001b[0;34m\u001b[0m\u001b[0m\n",
      "\u001b[0;31mModuleNotFoundError\u001b[0m: No module named 'easy_solution'"
     ]
    }
   ],
   "source": [
    "import nash_equilibrium, easy_solution, transform_matrix, simplex_new, visualize\n",
    "#from pack import *\n",
    "import numpy as np"
   ]
  },
  {
   "cell_type": "markdown",
   "metadata": {},
   "source": [
    "# Вводим матрицу\n",
    "Задаём какую-нибудь стандартную для примера работы"
   ]
  },
  {
   "cell_type": "code",
   "execution_count": 13,
   "metadata": {},
   "outputs": [],
   "source": [
    "matrix = np.array([\n",
    "    [9, 16, -9, 1],\n",
    "    [2, 8, 8, 12],\n",
    "    [9, -16, 9, 4]])"
   ]
  },
  {
   "cell_type": "code",
   "execution_count": 14,
   "metadata": {},
   "outputs": [],
   "source": [
    "price1, p_vector1, q_vector1 = nash_equilibrium.nash_equilibrium(matrix, 0)"
   ]
  },
  {
   "cell_type": "markdown",
   "metadata": {},
   "source": [
    "# Поиск решения\n",
    "### 1) Есть седловая точка - решение найдено\n",
    "### 2) Рассмотрение общего случая\n",
    "2.1) Преобразуем матрицу к матрице с неотрицательными элементами путём добавления к каждому элементу минимального элемента данной матрицы.\n",
    "\n",
    "2.2)Исключаем доминируемые(щие) стратегии (...)"
   ]
  },
  {
   "cell_type": "markdown",
   "metadata": {},
   "source": [
    "### 2.3) Применяем симплекс метод и находим оптимальные стратегии p_vector и q_vector "
   ]
  },
  {
   "cell_type": "markdown",
   "metadata": {},
   "source": [
    "Примеры"
   ]
  },
  {
   "cell_type": "code",
   "execution_count": 4,
   "metadata": {},
   "outputs": [
    {
     "name": "stdout",
     "output_type": "stream",
     "text": [
      "Value of a game: 2.00\n"
     ]
    }
   ],
   "source": [
    "matrix22 = np.array([\n",
    "    [7, -1, -4, 1],\n",
    "    [4, 2, 3, 2],\n",
    "    [2, 2, 5, 2],\n",
    "    [4, -3, 7, -2]])\n",
    "\n",
    "price2, p_vector2, q_vector2 = nash_equilibrium.nash_equilibrium(matrix22, 0)\n",
    "print ('Value of a game: %.2f' %  price2)"
   ]
  },
  {
   "cell_type": "code",
   "execution_count": 5,
   "metadata": {},
   "outputs": [
    {
     "name": "stdout",
     "output_type": "stream",
     "text": [
      "7.85 [0.69 0.31] [0.54 0.46]\n"
     ]
    }
   ],
   "source": [
    "matrix22 = np.array([\n",
    "    [6, 10],\n",
    "    [12, 3]])\n",
    "\n",
    "price2, p_vector2, q_vector2 = nash_equilibrium.nash_equilibrium(matrix22, 0)\n",
    "print (price2, p_vector2, q_vector2)"
   ]
  },
  {
   "cell_type": "code",
   "execution_count": 6,
   "metadata": {},
   "outputs": [
    {
     "name": "stdout",
     "output_type": "stream",
     "text": [
      "8 [ 8 -6 -1] [ 8 12 14]\n"
     ]
    }
   ],
   "source": [
    "matrix22 = np.array([\n",
    "    [8, -6, -1],\n",
    "    [12, 9, 8],\n",
    "    [14, 5, 1]])\n",
    "\n",
    "price2, p_vector2, q_vector2 = nash_equilibrium.nash_equilibrium(matrix22, 0)\n",
    "print (price2, p_vector2, q_vector2)"
   ]
  },
  {
   "cell_type": "markdown",
   "metadata": {},
   "source": [
    "# 4) Unit-тесты"
   ]
  },
  {
   "cell_type": "code",
   "execution_count": 10,
   "metadata": {},
   "outputs": [
    {
     "name": "stderr",
     "output_type": "stream",
     "text": [
      "test_n1 (__main__.Test_nash_equilibrium) ... C:\\Users\\Катя\\Downloads\\task1\\pack\\transform_matrix.py:47: DeprecationWarning: elementwise comparison failed; this will raise an error in the future.\n",
      "  if np.prod(A == A1):\n",
      "ok\n",
      "test_n10 (__main__.Test_nash_equilibrium) ... C:\\Users\\Катя\\Downloads\\task1\\pack\\simplex_new.py:22: RuntimeWarning: divide by zero encountered in double_scalars\n",
      "  coefficient = A[i][0] / A[i][leading_col]\n",
      "ok\n",
      "test_n2 (__main__.Test_nash_equilibrium) ... ok\n",
      "test_n3 (__main__.Test_nash_equilibrium) ... ok\n",
      "test_n4 (__main__.Test_nash_equilibrium) ... ok\n",
      "test_n5 (__main__.Test_nash_equilibrium) ... ok\n",
      "test_n6 (__main__.Test_nash_equilibrium) ... ok\n",
      "test_n7 (__main__.Test_nash_equilibrium) ... ok\n",
      "test_n8 (__main__.Test_nash_equilibrium) ... ok\n",
      "test_n9 (__main__.Test_nash_equilibrium) ... ok\n",
      "\n",
      "----------------------------------------------------------------------\n",
      "Ran 10 tests in 0.037s\n",
      "\n",
      "OK\n"
     ]
    }
   ],
   "source": [
    "import unittest\n",
    "\n",
    "class Test_nash_equilibrium(unittest.TestCase):\n",
    "    def test_n1(self):\n",
    "        matrix11 = np.array([\n",
    "    [9, 16, 9, -1],\n",
    "    [-2, 8, 8, 12],\n",
    "    [9, 16, -9, 4]])\n",
    "        price1, p_vector1, q_vector1 = nash_equilibrium.nash_equilibrium(matrix11, 0)\n",
    "        self.assertEqual(price1, 4.42)  \n",
    "        np.testing.assert_equal(p_vector1, np.array([0.58, 0.42, 0.00, 0.00]))\n",
    "        np.testing.assert_equal(q_vector1, np.array([0.54, 0.00, 0.00]))\n",
    "        \n",
    "    def test_n2(self):\n",
    "        matrix22 = np.array([\n",
    "    [7, -1, -4, 1],\n",
    "    [4, 2, 3, 2],\n",
    "    [2, 2, 5, 2],\n",
    "    [4, -3, 7, -2]])\n",
    "        price2, p_vector2, q_vector2 = nash_equilibrium.nash_equilibrium(matrix22, 0)\n",
    "        self.assertEqual(price2, 2.00)  \n",
    "        np.testing.assert_equal(p_vector2, np.array([0.00,  1.00,  0.00,  0.00]))\n",
    "        np.testing.assert_equal(q_vector2, np.array([0.00,  1.00,  0.00,  0.00]))\n",
    "        \n",
    "    def test_n3(self):\n",
    "        matrix33 = np.array([\n",
    "    [6, 10],\n",
    "    [12, 3]])\n",
    "        price3, p_vector3, q_vector3 = nash_equilibrium.nash_equilibrium(matrix33, 0)\n",
    "        self.assertEqual(price3, 7.85)  \n",
    "        np.testing.assert_equal(p_vector3, np.array([0.69,  0.31]))\n",
    "        np.testing.assert_equal(q_vector3, np.array([0.54,  0.46]))\n",
    "        \n",
    "    def test_n4(self):\n",
    "        matrix44 = np.array([\n",
    "    [4, 0, 6, 2, 2, 1],\n",
    "    [3, 8, 4, 10, 4, 4],\n",
    "    [1, 2, 6, 5, 0, 0],\n",
    "    [6, 6, 4, 4, 10, 3],\n",
    "    [10, 4, 6, 4, 0, 9],\n",
    "    [10, 7, 0, 7, 9, 8]])\n",
    "        price4, p_vector4, q_vector4 = nash_equilibrium.nash_equilibrium(matrix44, 0)\n",
    "        self.assertEqual(price4, 4.87)  \n",
    "        np.testing.assert_equal(p_vector4, np.array([0.00,  0.13,  0.10,  0.44, 0.34, 0.00]))\n",
    "        np.testing.assert_equal(q_vector4, np.array([0.00, 0.00,  0.69, 0.15, 0.15, 0.02]))\n",
    "        \n",
    "    def test_n5(self):\n",
    "        matrix55 = np.array([\n",
    "    [8, 6, 1],\n",
    "    [12, 9, 8],\n",
    "    [14, 5, 1]])\n",
    "        price5, p_vector5, q_vector5 = nash_equilibrium.nash_equilibrium(matrix55, 0)\n",
    "        self.assertEqual(price5, 8.00)  \n",
    "        np.testing.assert_equal(p_vector5, np.array([8.00,  6.00,  1.00]))\n",
    "        np.testing.assert_equal(q_vector5, np.array([8.00, 12.00,  14.00]))\n",
    "        \n",
    "    def test_n6(self):\n",
    "        matrix66 =  np.array([\n",
    "    [9, 16, 9, 1],\n",
    "    [2, 8, 8, 12],\n",
    "    [9, 16, 9, 4]])\n",
    "        price6, p_vector6, q_vector6 = nash_equilibrium.nash_equilibrium(matrix66, 0)\n",
    "        self.assertEqual(price6, 5.89)  \n",
    "        np.testing.assert_equal(p_vector6, np.array([0.56,  0.44,  0.00, 0.00]))\n",
    "        np.testing.assert_equal(q_vector6, np.array([0.61, 0.00,  0.00]))\n",
    "\n",
    "    def test_n7(self):\n",
    "        matrix77 = np.array([\n",
    "    [8, -6, -1],\n",
    "    [12, 9, 8],\n",
    "    [14, 5, 1]])\n",
    "        price7, p_vector7, q_vector7 = nash_equilibrium.nash_equilibrium(matrix77, 0)\n",
    "        self.assertEqual(price7, 8.00)  \n",
    "        np.testing.assert_equal(p_vector7, np.array([8.00,  -6.00,  -1.00]))\n",
    "        np.testing.assert_equal(q_vector7, np.array([8.00, 12.00,  14.00]))\n",
    "        \n",
    "    def test_n8(self):\n",
    "        matrix88 = np.array([\n",
    "    [4, 0, -6, 2, 2, 1],\n",
    "    [3, 8, 4, -10, 4, 4],\n",
    "    [1, 2, 6, 5, 0, 0],\n",
    "    [6, -6, 4, 4, 10, 3],\n",
    "    [10, 4, -6, 4, 0, 9],\n",
    "    [10, 7, 0, -7, 9, 8]])\n",
    "        price8, p_vector8, q_vector8 = nash_equilibrium.nash_equilibrium(matrix88, 0)\n",
    "        self.assertEqual(price8, 2.21)  \n",
    "        np.testing.assert_equal(p_vector8, np.array([0.00,  0.16,  0.42,  0.16, 0.26, 0.00]))\n",
    "        np.testing.assert_equal(q_vector8, np.array([0.00, 0.38,  0.04, 0.24, 0.34, 0.00]))\n",
    "        \n",
    "    def test_n9(self):\n",
    "        matrix88 = np.array([\n",
    "    [5, 8, 10],\n",
    "    [6, 4, 10],\n",
    "    [0, 0, 0]])\n",
    "        price9, p_vector9, q_vector9 = nash_equilibrium.nash_equilibrium(matrix88, 0)\n",
    "        self.assertEqual(price9, 5.60)  \n",
    "        np.testing.assert_equal(p_vector9, np.array([0.40,  0.60,  0.00]))\n",
    "        np.testing.assert_equal(q_vector9, np.array([0.80, 0.20,  0.00]))        \n",
    "        \n",
    "    def test_n10(self):\n",
    "        matrix10 = np.array([\n",
    "    [4, 0, -6, 2, 2, 1],\n",
    "    [3, 8, 4, -10, 4, 4],\n",
    "    [1, 2, 6, 5, 0, 0],\n",
    "    [6, -6, 4, 4, 10, 3],\n",
    "    [10, 4, -6, 4, 0, 9],\n",
    "    [10, 7, 0, -7, 9, 8],\n",
    "    [1, 0, -6, 5, 9, 10],\n",
    "    [3, -8, 4, -1, 12, 2],\n",
    "    [1, -2, 3, 5, 9, 0],\n",
    "    [6, -6, 4, 4, 1, 3],\n",
    "    [13, 4, -8, 4, 0, 9],\n",
    "    [1, -7, 0, -7, -5, 8]])\n",
    "        price10, p_vector10, q_vector10 = nash_equilibrium.nash_equilibrium(matrix10, 0)\n",
    "        self.assertEqual(price10, 2.76)  \n",
    "        np.testing.assert_equal(p_vector10, np.array([0.00, 0.00, 0.64, 0.00, 0.05, 0.18]))\n",
    "        np.testing.assert_equal(q_vector10, np.array([0.00, 0.47, 0.05, 0.30, 0.18, 0.00, 0.00, 0.00, 0.00, 0.00, 0.00, 0.00]))    \n",
    "        \n",
    "    unittest.main(argv=[''], verbosity=2, exit=False)"
   ]
  },
  {
   "cell_type": "markdown",
   "metadata": {},
   "source": [
    "## 3) Выводим цену игры, оптимальные стратегии каждого игрока и визуализируем их спектр"
   ]
  },
  {
   "cell_type": "code",
   "execution_count": 15,
   "metadata": {},
   "outputs": [
    {
     "name": "stdout",
     "output_type": "stream",
     "text": [
      "Value of a game: 3.75\n"
     ]
    }
   ],
   "source": [
    "print ('Value of a game: %.2f' %  price1)"
   ]
  },
  {
   "cell_type": "code",
   "execution_count": 16,
   "metadata": {},
   "outputs": [
    {
     "name": "stdout",
     "output_type": "stream",
     "text": [
      "\n",
      "\n",
      "p_optim:   0.25  0.75  0.00  0.00  "
     ]
    },
    {
     "name": "stderr",
     "output_type": "stream",
     "text": [
      "C:\\Users\\Катя\\Downloads\\task1\\pack\\visualize.py:12: UserWarning: In Matplotlib 3.3 individual lines on a stem plot will be added as a LineCollection instead of individual lines. This significantly improves the performance of a stem plot. To remove this warning and switch to the new behaviour, set the \"use_line_collection\" keyword argument to True.\n",
      "  (markerline, stemlines, baseline) = plt.stem(values)#use_line_collection=True - добавлять, если не работает\n"
     ]
    },
    {
     "data": {
      "image/png": "[encoded data removed]",
      "text/plain": [
       "<Figure size 432x288 with 1 Axes>"
      ]
     },
     "metadata": {
      "needs_background": "light"
     },
     "output_type": "display_data"
    }
   ],
   "source": [
    "print (\"\\n\\np_optim: \", end = \"  \") \n",
    "visualize.draw_graph(p_vector1, 'r')  "
   ]
  },
  {
   "cell_type": "code",
   "execution_count": 17,
   "metadata": {},
   "outputs": [
    {
     "name": "stdout",
     "output_type": "stream",
     "text": [
      "\n",
      "\n",
      "q_optim:   0.71  0.00  0.29  "
     ]
    },
    {
     "name": "stderr",
     "output_type": "stream",
     "text": [
      "C:\\Users\\Катя\\Downloads\\task1\\pack\\visualize.py:12: UserWarning: In Matplotlib 3.3 individual lines on a stem plot will be added as a LineCollection instead of individual lines. This significantly improves the performance of a stem plot. To remove this warning and switch to the new behaviour, set the \"use_line_collection\" keyword argument to True.\n",
      "  (markerline, stemlines, baseline) = plt.stem(values)#use_line_collection=True - добавлять, если не работает\n"
     ]
    },
    {
     "data": {
      "image/png": "[encoded data removed]",
      "text/plain": [
       "<Figure size 432x288 with 1 Axes>"
      ]
     },
     "metadata": {
      "needs_background": "light"
     },
     "output_type": "display_data"
    }
   ],
   "source": [
    "print (\"\\n\\nq_optim: \", end = \"  \")   \n",
    "visualize.draw_graph(q_vector1, 'b') "
   ]
  },
  {
   "cell_type": "code",
   "execution_count": null,
   "metadata": {},
   "outputs": [],
   "source": []
  }
 ],
 "metadata": {
  "kernelspec": {
   "display_name": "Python 3",
   "language": "python",
   "name": "python3"
  },
  "language_info": {
   "codemirror_mode": {
    "name": "ipython",
    "version": 3
   },
   "file_extension": ".py",
   "mimetype": "text/x-python",
   "name": "python",
   "nbconvert_exporter": "python",
   "pygments_lexer": "ipython3",
   "version": "3.8.3"
  }
 },
 "nbformat": 4,
 "nbformat_minor": 2
}
