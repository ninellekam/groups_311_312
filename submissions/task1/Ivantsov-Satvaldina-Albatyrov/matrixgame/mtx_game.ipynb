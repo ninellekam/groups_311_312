{
 "cells": [
  {
   "cell_type": "markdown",
   "metadata": {},
   "source": [
    "# Решение матричной игры симплекс-методом"
   ]
  },
  {
   "cell_type": "code",
   "execution_count": 11,
   "metadata": {},
   "outputs": [],
   "source": [
    "import os\n",
    "import sys\n",
    "import numpy as np\n",
    "import matplotlib.pyplot as plt"
   ]
  },
  {
   "cell_type": "markdown",
   "metadata": {},
   "source": [
    "# Проверка на наличие седловой точки\n",
    "Если седловая точка существует, то возвращаются ее координаты. В таком случае, решение игры выписывается в чистых стратегиях."
   ]
  },
  {
   "cell_type": "code",
   "execution_count": 12,
   "metadata": {},
   "outputs": [],
   "source": [
    "def saddle_point(a):\n",
    "    m = len(a); n = len(a[0])\n",
    "    min_a = np.zeros(m)\n",
    "    max_a = np.zeros(n)\n",
    "    for i in range(m):\n",
    "        min_a[i] = np.min(a[i])\n",
    "      \n",
    "    for j in range(n):\n",
    "        max_a[j] = np.max(a[:,j])\n",
    "        \n",
    "    maxmin = np.max(min_a)\n",
    "    minmax = np.min(max_a)\n",
    "    if maxmin == minmax:\n",
    "        index_max = np.where(min_a == maxmin)[0][0]\n",
    "        index_min = np.where(max_a == minmax)[0][0]\n",
    "        return index_max, index_min, a[index_max], a[:,index_min]\n",
    "    return -1,-1,-1,-1"
   ]
  },
  {
   "cell_type": "markdown",
   "metadata": {},
   "source": [
    "# Удаление доминируемых строк и столбцов\n",
    "Говорят, что $i$-я стратегия 1-го игрока доминирует его $k$-ю стратегию, если $a_{ij}$ ≥ $a_{kj}$ для всех $j \\in N$ и хотя бы для одного $j$ $a_{ij} > a_{kj}$. В этом случае говорят также, что $i$-я стратегия (или строка) – доминирующая, $k$-я – доминируемая. \n",
    "\n",
    "Говорят, что $j$-я стратегия 2-го игрока доминирует его $l$-ю стратегию, если для всех $j \\in M$ $a_{ij} ≤ a_{il}$ и хотя бы для одного $i$ $a_{ij} < a_{il}$. В этом случае $j$-ю стратегию (столбец) называют доминирующей, $l$-ю – доминируемой. \n",
    "\n",
    "Удаление доминируемых строк и столбцов происходит до тех пор, пока это возможно."
   ]
  },
  {
   "cell_type": "code",
   "execution_count": 13,
   "metadata": {},
   "outputs": [],
   "source": [
    "def dominant_strategies(a):\n",
    "    a_copy = np.copy(a)\n",
    "    m0 = len(a); n0 = len(a[0])\n",
    "    rows = np.arange(1,m0+1)\n",
    "    cols = np.arange(1,n0+1)\n",
    "    \n",
    "    while 1:\n",
    "        m = len(a); n = len(a[0])\n",
    "        deleted = 0; k=0;l=0\n",
    "        for i in range(m0):\n",
    "            if rows[i] == 0 or k >= m:\n",
    "                continue\n",
    "            delete = 0\n",
    "            for j in range(m0):\n",
    "                if rows[j] == 0 or l >= m:\n",
    "                    continue\n",
    "                if k != l:\n",
    "                    if np.prod(a[k] >= a[l]) == 1:\n",
    "                        a = np.delete(a, (l), axis=0)\n",
    "                        rows[j] = 0\n",
    "                        delete += 1\n",
    "                        m = len(a)\n",
    "                        if k >= l:\n",
    "                            k -= 1\n",
    "                        l -= 1\n",
    "                l += 1\n",
    "            l=0\n",
    "            k += 1\n",
    "            deleted += delete\n",
    "        \n",
    "        m = len(a); n = len(a[0])\n",
    "        k=0;l=0\n",
    "        for i in range(n0):\n",
    "            if cols[i] == 0 or k >= n:\n",
    "                continue\n",
    "            delete = 0\n",
    "            for j in range(n0):\n",
    "                if cols[j] == 0 or l >= n:\n",
    "                    continue\n",
    "                if k != l:\n",
    "                    if np.prod(a[:,k] <= a[:,l]) == 1:\n",
    "                        a = np.delete(a, (l), axis=1)\n",
    "                        cols[j] = 0\n",
    "                        delete += 1\n",
    "                        n = len(a[0])\n",
    "                        if k >= l:\n",
    "                            k -= 1\n",
    "                        l -= 1\n",
    "                l += 1\n",
    "            l=0\n",
    "            k += 1\n",
    "            deleted += delete\n",
    "        if deleted == 0:\n",
    "            break\n",
    "                    \n",
    "    if 0 in rows:\n",
    "        print(\"Unused pure strategies for the 1st player:\")\n",
    "        for i in range(m0):\n",
    "            if rows[i] == 0:\n",
    "                print(a_copy[i])\n",
    "        print()\n",
    "            \n",
    "    if 0 in cols:       \n",
    "        print(\"Unused pure strategies for the 2st player:\")\n",
    "        for j in range(n0):\n",
    "            if cols[j] == 0:\n",
    "                print(a_copy[:,j])\n",
    "        print()\n",
    "    return a, rows, cols"
   ]
  },
  {
   "cell_type": "markdown",
   "metadata": {},
   "source": [
    "# Создание симплекс-таблицы\n",
    "На основе исходной матрица $a$, создается симплекс таблица, где первый столбец - столбец свободных переменных, состоящий из $-1$. Самая последняя (индексная) строка состоит из единиц."
   ]
  },
  {
   "cell_type": "code",
   "execution_count": 14,
   "metadata": {},
   "outputs": [],
   "source": [
    "def create_s0(a):\n",
    "    m = len(a); n = len(a[0])\n",
    "    s0 = np.zeros((n+1,m+2))\n",
    "    \n",
    "    for j in range(1,m+1):\n",
    "        s0[n][j] = 1\n",
    "    for i in range(n):\n",
    "        s0[i][0] = -1\n",
    "        for j in range(1,m+1):\n",
    "            s0[i][j] = -a[j-1][i]\n",
    "    return s0"
   ]
  },
  {
   "cell_type": "markdown",
   "metadata": {},
   "source": []
  },
  {
   "cell_type": "markdown",
   "metadata": {},
   "source": [
    "# Реализация алгоритма симплекс-метода\n",
    "Данный алгоритм повторяется до тех пор, пока в столбце свободных переменных есть отрицательные значения."
   ]
  },
  {
   "cell_type": "code",
   "execution_count": 15,
   "metadata": {},
   "outputs": [],
   "source": [
    "def simplex(s0,indices):\n",
    "    m = len(s0); n = len(s0[0])\n",
    "    min_el = np.min(s0[:-1,0])\n",
    "    if min_el >= 0:\n",
    "        return 1\n",
    "    \n",
    "    leading_row = (np.where(s0[:-1,0] == min_el))[0][0]\n",
    "    \n",
    "    min_ = leading_col = 1000\n",
    "    for i in range(1,n-1):\n",
    "        if s0[leading_row][i] < 0:\n",
    "            temp = abs(s0[m-1][i] / s0[leading_row][i])\n",
    "            if temp < min_:\n",
    "                min_ = temp\n",
    "                leading_col = i\n",
    "    leading_el = s0[leading_row][leading_col]            \n",
    "    index_col = indices[leading_col-1]\n",
    "    index_row = indices[leading_row + n - 2]\n",
    "    indices[leading_col - 1] = index_row\n",
    "    indices[leading_row + n - 2] = index_col\n",
    "  \n",
    "    for j in range(n-1):\n",
    "        s0[leading_row][j] /= leading_el\n",
    "    s0[leading_row][leading_col] = 1 / leading_el\n",
    "    \n",
    "    for i in range(m):\n",
    "        s0[i][n-1] = - s0[i][leading_col]\n",
    "    for i in range(m):\n",
    "        if i == leading_row:\n",
    "            continue\n",
    "        for j in range(n-1):\n",
    "            if j == leading_col:\n",
    "                s0[i][j] = s0[leading_row][j] * s0[i][n-1]\n",
    "            else:\n",
    "                s0[i][j] += s0[leading_row][j] * s0[i][n-1]\n",
    "    return 0"
   ]
  },
  {
   "cell_type": "markdown",
   "metadata": {},
   "source": [
    "# Проверка полученного результата\n",
    "Данная функция проверяет, являются ли найденные смешанные оптимальные стратегии правильными."
   ]
  },
  {
   "cell_type": "code",
   "execution_count": 16,
   "metadata": {},
   "outputs": [],
   "source": [
    "def check_result(v,p,q,a,rows,cols):\n",
    "    m = len(a); n = len(a[0])\n",
    "    m0 = len(p); n0 = len(q)\n",
    "    v = round(v,3)\n",
    "    l=0\n",
    "    for i in range(n0):\n",
    "        if cols[i] == 0 or l >= n:\n",
    "             continue\n",
    "        sum = 0\n",
    "        k = 0\n",
    "        for j in range(m0):\n",
    "            if rows[j] == 0 or k >= m:\n",
    "                continue\n",
    "            sum += p[j]*a[k][l]\n",
    "            \n",
    "            k += 1\n",
    "        l += 1\n",
    "        if round(sum,3) < v:\n",
    "            return 0\n",
    "        \n",
    "    l=0\n",
    "    for i in range(m0):\n",
    "        sum = 0\n",
    "        if rows[i] == 0 or l >= m:\n",
    "             continue\n",
    "        k = 0\n",
    "        for j in range(n0):\n",
    "            if cols[j] == 0 or k >= n:\n",
    "                continue\n",
    "            sum += q[j]*a[l][k]\n",
    "            k += 1\n",
    "        l += 1\n",
    "        if round(sum,3) > v:\n",
    "            return 0\n",
    "    return 1"
   ]
  },
  {
   "cell_type": "markdown",
   "metadata": {},
   "source": [
    "# Функция nash_equilibrium(a)\n",
    "Строит симплекс-таблицы. Формирует и возвращает оптимальные стратегии игроков."
   ]
  },
  {
   "cell_type": "code",
   "execution_count": 17,
   "metadata": {},
   "outputs": [],
   "source": [
    "def nash_equilibrium(a):\n",
    "    print(\"Input:\\n\",a)\n",
    "    print()\n",
    "    m0= len(a); n0 = len(a[0])\n",
    "    row, column, strategy1, strategy2 = saddle_point(a)\n",
    "    if isinstance(strategy1, int) == 0:\n",
    "        print(\"Equillibrium situation.\")\n",
    "        print(\"Optimal strategy for the first player: \", strategy1)\n",
    "        print(\"Optimal strategy for the second player: \", strategy2)\n",
    "        return row,column\n",
    "    a, rows, cols = dominant_strategies(a)\n",
    "    \n",
    "    min_el = np.min(a)\n",
    "    if min_el < 0:\n",
    "        a += abs(min_el)\n",
    "    else:\n",
    "        min_el = 0\n",
    "        \n",
    "    s0 = create_s0(a)\n",
    "    m = len(a); n = len(a[0])\n",
    "    indices = [i+1 for i in range(m+n)]\n",
    "    \n",
    "    sign = 0\n",
    "    while sign == 0:\n",
    "        sign = simplex(s0, indices)\n",
    "        \n",
    "    x = np.zeros(m); y = np.zeros(n)    \n",
    "    for i in range(m+n):\n",
    "        if i < m and indices[i] > m:\n",
    "            y[indices[i]-m-1] = s0[n][i+1]\n",
    "        elif i >= m and indices[i] <= n:\n",
    "            x[indices[i]-1] = s0[i-m][0]\n",
    "            \n",
    "    v = 1/np.sum(x)\n",
    "    \n",
    "    p = np.zeros(m0); q = np.zeros(n0)\n",
    "    j = 0\n",
    "    for i in range(m0):\n",
    "        if rows[i] == 0:\n",
    "            continue\n",
    "        if j >= m:\n",
    "            break\n",
    "        p[i] = x[j] * v\n",
    "        j += 1\n",
    "        \n",
    "    j = 0   \n",
    "    for i in range(n0):\n",
    "        if cols[i] == 0:\n",
    "            continue\n",
    "        if j >= n:\n",
    "            break\n",
    "        q[i] = y[j] * v\n",
    "        j += 1\n",
    "    \n",
    "    if check_result(v,p,q,a,rows,cols) == 0:\n",
    "        print(\"The game has no solution\")\n",
    "        return -1,-1\n",
    "    v += min_el\n",
    "    print(\"Game price v = \",v)\n",
    "    print(\"Optimal strategy for the first player:\\n \", p)\n",
    "    print(\"Optimal strategy for the second player:\\n \", q)\n",
    "    return np.array(p),np.array(q)"
   ]
  },
  {
   "cell_type": "markdown",
   "metadata": {},
   "source": [
    "# Считывание матриц с файла\n"
   ]
  },
  {
   "cell_type": "code",
   "execution_count": 18,
   "metadata": {},
   "outputs": [],
   "source": [
    "def read_matrix(file):\n",
    "    return np.loadtxt(file, dtype='f', delimiter=' ')"
   ]
  },
  {
   "cell_type": "markdown",
   "metadata": {},
   "source": [
    "# Функция nash(), которая запускает программу\n",
    "Здесь считывается матрица из файла, вызывается функция nash_equilibrium и строится график для спектров оптимальных стратегий."
   ]
  },
  {
   "cell_type": "code",
   "execution_count": 22,
   "metadata": {},
   "outputs": [],
   "source": [
    "def nash():\n",
    "    path = os.path.join('.','matrices', 'matrix_equilibrium.txt')\n",
    "    if len(sys.argv) > 3:\n",
    "        path = sys.argv[1]\n",
    "    \n",
    "    a = read_matrix(path)\n",
    "    p,q = nash_equilibrium(a)\n",
    "    try:\n",
    "        i = 0   \n",
    "        x = [i+1 for i in range(len(p))]\n",
    "        i = 0\n",
    "        y1 = [0 for i in range(len(p))]\n",
    "    except TypeError:\n",
    "        if p == q == -1:\n",
    "            sys.exit()\n",
    "        x = p + 1\n",
    "        p = q + 1\n",
    "        y1 = 0\n",
    "    \n",
    "    plt.vlines(x, ymin=y1, ymax=p, color='blue')\n",
    "    plt.scatter(x, p, s=10, color='blue')\n",
    "    plt.show()"
   ]
  },
  {
   "cell_type": "code",
   "execution_count": 23,
   "metadata": {},
   "outputs": [
    {
     "name": "stdout",
     "output_type": "stream",
     "text": [
      "Input:\n",
      " [[ 5.  7. 10.  8.]\n",
      " [10.  9. 11. 10.]\n",
      " [ 8.  6.  7.  4.]]\n",
      "\n",
      "Equillibrium situation.\n",
      "Optimal strategy for the first player:  [10.  9. 11. 10.]\n",
      "Optimal strategy for the second player:  [7. 9. 6.]\n"
     ]
    },
    {
     "data": {
      "image/png": "[encoded data removed]",
      "text/plain": [
       "<Figure size 432x288 with 1 Axes>"
      ]
     },
     "metadata": {
      "needs_background": "light"
     },
     "output_type": "display_data"
    }
   ],
   "source": [
    "nash()"
   ]
  },
  {
   "cell_type": "code",
   "execution_count": null,
   "metadata": {},
   "outputs": [],
   "source": []
  }
 ],
 "metadata": {
  "kernelspec": {
   "display_name": "Python 3",
   "language": "python",
   "name": "python3"
  },
  "language_info": {
   "codemirror_mode": {
    "name": "ipython",
    "version": 3
   },
   "file_extension": ".py",
   "mimetype": "text/x-python",
   "name": "python",
   "nbconvert_exporter": "python",
   "pygments_lexer": "ipython3",
   "version": "3.8.3"
  }
 },
 "nbformat": 4,
 "nbformat_minor": 4
}
