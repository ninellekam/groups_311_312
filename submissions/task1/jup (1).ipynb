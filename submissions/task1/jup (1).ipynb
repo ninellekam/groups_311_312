{
 "cells": [
  {
   "cell_type": "code",
   "execution_count": 4,
   "metadata": {},
   "outputs": [
    {
     "name": "stdout",
     "output_type": "stream",
     "text": [
      "Введите число строк матрицы\n",
      "2\n",
      "Введите матрицу построчно. Элементы строки разделять пробелом\n",
      "1 3\n",
      "5 6\n"
     ]
    },
    {
     "data": {
      "image/png": "[encoded data removed]",
      "text/plain": [
       "<Figure size 432x288 with 1 Axes>"
      ]
     },
     "metadata": {},
     "output_type": "display_data"
    },
    {
     "data": {
      "image/png": "[encoded data removed]",
      "text/plain": [
       "<Figure size 432x288 with 1 Axes>"
      ]
     },
     "metadata": {},
     "output_type": "display_data"
    },
    {
     "name": "stdout",
     "output_type": "stream",
     "text": [
      "\n",
      " Game value is : 5.0\n",
      "Optimal strategy for first player: 0 1 \n",
      "Optimal strategy for second player:  1 0 "
     ]
    }
   ],
   "source": [
    "import numpy as np\n",
    "import matplotlib.pyplot as plt\n",
    "from decimal import *\n",
    "from fractions import Fraction\n",
    "getcontext().prec = 3\n",
    "\n",
    "def pivot_on(a, row, col):\n",
    "    pivot = a[row][col]\n",
    "    for j in range(a.shape[1]):\n",
    "        a[row][j] = Decimal(a[row][j] / pivot)\n",
    "    for i in range(a.shape[0]):\n",
    "        if i == row:\n",
    "            continue\n",
    "        mult = a[i][col]\n",
    "        for j in range(a.shape[1]):\n",
    "            a[i][j] = Decimal(a[i][j] - mult * a[row][j])\n",
    "\n",
    "def dec_check(j):\n",
    "    try:\n",
    "        j = Decimal(j).quantize(Decimal('1.000'))\n",
    "        return j\n",
    "    except InvalidOperation:\n",
    "        return j\n",
    "\n",
    "\n",
    "def find_pivot_col(a):\n",
    "    pivot_col = 1\n",
    "    lowest = Decimal(a[0][pivot_col])\n",
    "    for j in range(1, a.shape[1]):\n",
    "        if a[0][j] < lowest:\n",
    "            lowest = Decimal(a[0][j])\n",
    "            pivot_col = j\n",
    "    if lowest >= 0:\n",
    "        return -1\n",
    "    return pivot_col\n",
    "\n",
    "\n",
    "def find_pivot_row(a, pivot_col):\n",
    "    pivot_row = 0\n",
    "    min_ratio = Decimal(-1.0)\n",
    "    for i in range(1, a.shape[0]):\n",
    "        ratio = Decimal(a[i][0] / a[i][pivot_col])\n",
    "        if (0 < ratio < min_ratio) or min_ratio < 0:\n",
    "            min_ratio = Decimal(ratio)\n",
    "            pivot_row = i\n",
    "    if min_ratio < 0:\n",
    "        return -1\n",
    "    return pivot_row\n",
    "\n",
    "\n",
    "def add_slack_var(a):\n",
    "    I = np.vstack((np.zeros(a.shape[0]), np.eye(a.shape[0])))\n",
    "    b = np.array([1, ] * (a.shape[0] + 1)).reshape(a.shape[0] + 1, -1)\n",
    "    b[0][0] = 0\n",
    "    c = np.array([-1, ] * a.shape[1])\n",
    "    a = np.vstack((c, a))\n",
    "    a = np.hstack((b, a))\n",
    "    a = np.hstack((a, I))\n",
    "    return a\n",
    "\n",
    "\n",
    "def check_b_positive(a):\n",
    "    for i in range(1, a.shape[0]):\n",
    "        assert(a[i][0] == 1)\n",
    "\n",
    "\n",
    "def find_basis_variable(a, col):\n",
    "    xi = -1\n",
    "    for i in range(1, a.shape[0]):\n",
    "        if a[i][col] == 1:\n",
    "            if xi == -1:\n",
    "                xi = i\n",
    "            else:\n",
    "                return -1\n",
    "        else:\n",
    "            if a[i][col] != 0:\n",
    "                return -1\n",
    "    return xi\n",
    "\n",
    "\n",
    "def optimal_strategy(a, b):\n",
    "    p = []\n",
    "    q = []\n",
    "    for j in range(1, a.shape[1]):\n",
    "        xi = find_basis_variable(a, j)\n",
    "        if xi != -1:\n",
    "            if j < a.shape[0]:\n",
    "                q.append(a[xi][0])\n",
    "            else:\n",
    "                p.append(a[0][j])\n",
    "        else:\n",
    "            if j < a.shape[0]:\n",
    "                q.append(0)\n",
    "            else:\n",
    "                p.append(a[0][j])\n",
    "    sum1 = sum(q)\n",
    "    sum2 = sum(p)\n",
    "    for i in range(len(q)):\n",
    "        q[i] /= sum1\n",
    "    for i in range(len(p)):\n",
    "        p[i] /= sum2\n",
    "    return p, q, 1 / sum1 - b\n",
    "\n",
    "\n",
    "def nash_equilibrium(a):\n",
    "    loop = 1\n",
    "    min_val = a.min()\n",
    "    b = 0\n",
    "    if min_val <= 0:\n",
    "        b = -min_val + 1\n",
    "        a = a + b\n",
    "    a = add_slack_var(a)\n",
    "    check_b_positive(a)\n",
    "    while loop:\n",
    "        pivot_col = find_pivot_col(a)\n",
    "        if pivot_col < 0:\n",
    "            p, q, s = optimal_strategy(a, b)\n",
    "            return p, q, s\n",
    "        pivot_row = find_pivot_row(a, pivot_col)\n",
    "        if pivot_row < 0:\n",
    "            print('(no pivot row')\n",
    "            break\n",
    "        pivot_on(a, pivot_row, pivot_col)\n",
    "        if loop > 20:\n",
    "            print('Too many iterations')\n",
    "            break\n",
    "        loop += 1\n",
    "\n",
    "        \n",
    "def visualization(p):\n",
    "    x = np.linspace(1, len(p), len(p) )\n",
    "    \n",
    "    plt.axis([0, len(p) + 1, 0, max(p) + 1/2]) \n",
    "    plt.style.use('ggplot')\n",
    "    plt.stem(x, p, use_line_collection=True, basefmt=' ')\n",
    "    plt.show()\n",
    "        \n",
    "\n",
    "def main(a = None):\n",
    "    if a is None:\n",
    "        print('Введите число строк матрицы')\n",
    "        n = int(input())\n",
    "        a = []\n",
    "        print('Введите матрицу построчно. Элементы строки разделять пробелом')\n",
    "        for i in range(n):\n",
    "            a.append([])\n",
    "            a[i] = list(map(int, input().split()))\n",
    "        a = np.array(a)\n",
    "    p, q, s = nash_equilibrium(a)\n",
    "    visualization(p)\n",
    "    visualization(q)\n",
    "    print('\\n Game value is :', s)\n",
    "    print('Optimal strategy for first player:', end=' ')\n",
    "    for i in p:\n",
    "        i = dec_check(i)\n",
    "        print(Fraction(f'{i}'), end=' ')\n",
    "    print()\n",
    "    print('Optimal strategy for second player: ', end=' ')\n",
    "    for j in q:\n",
    "        j = dec_check(j)\n",
    "        print(Fraction(f'{j}'), end=' ')\n",
    "\n",
    "\n",
    "if __name__ == \"__main__\":\n",
    "    main()"
   ]
  },
  {
   "cell_type": "markdown",
   "metadata": {},
   "source": [
    "# Примеры"
   ]
  },
  {
   "cell_type": "markdown",
   "metadata": {},
   "source": [
    "## 1. Чистые Стратегии"
   ]
  },
  {
   "cell_type": "code",
   "execution_count": 7,
   "metadata": {},
   "outputs": [
    {
     "data": {
      "image/png": "[encoded data removed]",
      "text/plain": [
       "<Figure size 432x288 with 1 Axes>"
      ]
     },
     "metadata": {},
     "output_type": "display_data"
    },
    {
     "data": {
      "image/png": "[encoded data removed]",
      "text/plain": [
       "<Figure size 432x288 with 1 Axes>"
      ]
     },
     "metadata": {},
     "output_type": "display_data"
    },
    {
     "name": "stdout",
     "output_type": "stream",
     "text": [
      "\n",
      " Game value is : 0.0\n",
      "Optimal strategy for first player: 1 0 \n",
      "Optimal strategy for second player:  0 1 "
     ]
    }
   ],
   "source": [
    "a = np.array([[5,0],\n",
    "               [6,0]])\n",
    "\n",
    "main(a)"
   ]
  },
  {
   "cell_type": "markdown",
   "metadata": {},
   "source": [
    "## 2. Неполный спектр стратегий"
   ]
  },
  {
   "cell_type": "code",
   "execution_count": 14,
   "metadata": {},
   "outputs": [
    {
     "data": {
      "image/png": "[encoded data removed]",
      "text/plain": [
       "<Figure size 432x288 with 1 Axes>"
      ]
     },
     "metadata": {},
     "output_type": "display_data"
    },
    {
     "data": {
      "image/png": "[encoded data removed]",
      "text/plain": [
       "<Figure size 432x288 with 1 Axes>"
      ]
     },
     "metadata": {},
     "output_type": "display_data"
    },
    {
     "name": "stdout",
     "output_type": "stream",
     "text": [
      "\n",
      " Game value is : 4.1818181818181825\n",
      "Optimal strategy for first player: 91/250 159/250 0 \n",
      "Optimal strategy for second player:  109/200 91/200 0 "
     ]
    }
   ],
   "source": [
    "a = np.array([[1, 8, 3],\n",
    "              [6, 2, 10],\n",
    "              [0, 0, 0]])\n",
    "main(a)"
   ]
  },
  {
   "cell_type": "markdown",
   "metadata": {},
   "source": [
    "## 3. Полный спектр стратегий"
   ]
  },
  {
   "cell_type": "code",
   "execution_count": 10,
   "metadata": {},
   "outputs": [
    {
     "data": {
      "image/png": "[encoded data removed]",
      "text/plain": [
       "<Figure size 432x288 with 1 Axes>"
      ]
     },
     "metadata": {},
     "output_type": "display_data"
    },
    {
     "data": {
      "image/png": "[encoded data removed]",
      "text/plain": [
       "<Figure size 432x288 with 1 Axes>"
      ]
     },
     "metadata": {},
     "output_type": "display_data"
    },
    {
     "name": "stdout",
     "output_type": "stream",
     "text": [
      "\n",
      " Game value is : 4.5\n",
      "Optimal strategy for first player: 1/8 7/8 \n",
      "Optimal strategy for second player:  1/2 1/2 "
     ]
    }
   ],
   "source": [
    "a = np.array([[1, 8],\n",
    "              [5, 4]])\n",
    "main(a)"
   ]
  }
 ],
 "metadata": {
  "kernelspec": {
   "display_name": "Python 3",
   "language": "python",
   "name": "python3"
  },
  "language_info": {
   "codemirror_mode": {
    "name": "ipython",
    "version": 3
   },
   "file_extension": ".py",
   "mimetype": "text/x-python",
   "name": "python",
   "nbconvert_exporter": "python",
   "pygments_lexer": "ipython3",
   "version": "3.6.10"
  }
 },
 "nbformat": 4,
 "nbformat_minor": 2
}
